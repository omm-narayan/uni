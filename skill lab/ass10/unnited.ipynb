{
 "cells": [
  {
   "cell_type": "code",
   "execution_count": 7,
   "id": "ab28e717",
   "metadata": {},
   "outputs": [
    {
     "name": "stdout",
     "output_type": "stream",
     "text": [
      "pandas Series and its type:\n",
      "0     2\n",
      "1     4\n",
      "2     6\n",
      "3     8\n",
      "4    10\n",
      "dtype: int64\n",
      "<class 'pandas.core.series.Series'>\n",
      "pandas Series as a list:\n",
      "[2, 4, 6, 8, 10]\n",
      "<class 'list'>\n"
     ]
    }
   ],
   "source": [
    "import pandas as pd\n",
    "\n",
    "ds = pd.Series([2, 4, 6, 8, 10])\n",
    "print(\"pandas Series and its type:\")\n",
    "print(ds)\n",
    "print(type(ds))\n",
    "\n",
    "print(\"pandas Series as a list:\")\n",
    "print(ds.tolist())\n",
    "print(type(ds.tolist()))\n"
   ]
  },
  {
   "cell_type": "code",
   "execution_count": 8,
   "id": "72828d96",
   "metadata": {},
   "outputs": [
    {
     "name": "stdout",
     "output_type": "stream",
     "text": [
      "NumPy Array:\n",
      "[10 20 30 40 50]\n",
      "\n",
      "Pandas Series:\n",
      "0    10\n",
      "1    20\n",
      "2    30\n",
      "3    40\n",
      "4    50\n",
      "dtype: int64\n"
     ]
    }
   ],
   "source": [
    "import numpy as np\n",
    "import pandas as pd\n",
    "\n",
    "arr = np.array([10, 20, 30, 40, 50])\n",
    "\n",
    "series = pd.Series(arr)\n",
    "\n",
    "print(\"NumPy Array:\")\n",
    "print(arr)\n",
    "\n",
    "print(\"\\nPandas Series:\")\n",
    "print(series)\n"
   ]
  },
  {
   "cell_type": "code",
   "execution_count": null,
   "id": "0041c524",
   "metadata": {},
   "outputs": [
    {
     "name": "stdout",
     "output_type": "stream",
     "text": [
      "         Name       City\n",
      "count       4          4\n",
      "unique      4          4\n",
      "top     asima  sambalpur\n",
      "freq        1          1\n"
     ]
    }
   ],
   "source": [
    "import pandas as pd\n",
    "\n",
    "data = {\n",
    "    'Name': ['asima', 'yuvraj', 'arindam', 'namla'],\n",
    "    'City': ['sambalpur', 'jajpur', 'bhubaneswar', 'mars'],\n",
    "    'Age': [21, 19, 20, 21]\n",
    "}\n",
    "\n",
    "df = pd.DataFrame(data)\n",
    "\n",
    "summary = df.describe(include=['object'])\n",
    "print(summary)\n"
   ]
  }
 ],
 "metadata": {
  "kernelspec": {
   "display_name": "Python 3",
   "language": "python",
   "name": "python3"
  },
  "language_info": {
   "codemirror_mode": {
    "name": "ipython",
    "version": 3
   },
   "file_extension": ".py",
   "mimetype": "text/x-python",
   "name": "python",
   "nbconvert_exporter": "python",
   "pygments_lexer": "ipython3",
   "version": "3.13.7"
  }
 },
 "nbformat": 4,
 "nbformat_minor": 5
}
